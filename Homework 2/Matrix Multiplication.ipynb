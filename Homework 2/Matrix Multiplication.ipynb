{
 "cells": [
  {
   "cell_type": "code",
   "execution_count": 1,
   "metadata": {},
   "outputs": [],
   "source": [
    "# Time complexity: O(n^3)\n",
    "# Space complexity: O(n^2)"
   ]
  },
  {
   "cell_type": "code",
   "execution_count": 2,
   "metadata": {},
   "outputs": [],
   "source": [
    "class direct_solution:\n",
    "    \n",
    "    def __init__(self, a, b):\n",
    "        self.a = a\n",
    "        self.b = b\n",
    "        self.n = len(a)\n",
    "        pass\n",
    "    \n",
    "    \n",
    "    def solve(self):\n",
    "        \n",
    "        c = [[0 for i in range(self.n)] for j in range(self.n)]\n",
    "        \n",
    "        for i in range(self.n):\n",
    "            for j in range(self.n):\n",
    "                for k in range(self.n):\n",
    "                    c[i][j] += a[i][k] * b[k][j]\n",
    "                    \n",
    "        return c\n",
    "        pass"
   ]
  },
  {
   "cell_type": "code",
   "execution_count": 3,
   "metadata": {},
   "outputs": [],
   "source": [
    "if __name__ == '__main__': \n",
    "\n",
    "    import sys\n",
    "    import time\n",
    "    import numpy as np"
   ]
  },
  {
   "cell_type": "code",
   "execution_count": 4,
   "metadata": {},
   "outputs": [],
   "source": [
    "# size of matrix\n",
    "size = [i for i in range(1,100)]\n",
    "# execution time while using self-built dot-product method\n",
    "my_time = []\n",
    "# execution time while using np.dot() method\n",
    "np_time = []"
   ]
  },
  {
   "cell_type": "code",
   "execution_count": 5,
   "metadata": {},
   "outputs": [
    {
     "name": "stdout",
     "output_type": "stream",
     "text": [
      "==========\n",
      "(using np.dot()) Sum for n = 1 : 0.0\n",
      "(using self dot()) Sum for n = 1 : 0.0\n",
      "==========\n",
      "(using np.dot()) Sum for n = 2 : 20.0\n",
      "(using self dot()) Sum for n = 2 : 20.0\n",
      "==========\n",
      "(using np.dot()) Sum for n = 3 : 450.0\n",
      "(using self dot()) Sum for n = 3 : 450.0\n",
      "==========\n",
      "(using np.dot()) Sum for n = 4 : 3680.0\n",
      "(using self dot()) Sum for n = 4 : 3680.0\n",
      "==========\n",
      "(using np.dot()) Sum for n = 5 : 18250.0\n",
      "(using self dot()) Sum for n = 5 : 18250.0\n"
     ]
    }
   ],
   "source": [
    "for n in size:\n",
    "    \n",
    "    # initialize Matrix A & B\n",
    "    a = np.zeros((n, n)) \n",
    "    b = np.zeros((n, n))\n",
    "    for i in range(n):\n",
    "        for j in range(n):\n",
    "            a[i][j] = i * n + j\n",
    "            b[i][j] = j * n + i\n",
    "    \n",
    "    # calculating matrix multiplication by np.dot() [for reference]\n",
    "    begin = time.time()\n",
    "    c1 = np.dot(a,b)\n",
    "    end = time.time()\n",
    "    np_time.append(end - begin)\n",
    "    \n",
    "    # calculating matrix multiplication by self-built dot-product method\n",
    "    my_dot = direct_solution(a,b)\n",
    "    \n",
    "    begin = time.time()\n",
    "    c2 = my_dot.solve()\n",
    "    end = time.time()\n",
    "    my_time.append(end - begin)\n",
    "\n",
    "    # print c1 and c2 for debugging.\n",
    "    total1 = 0\n",
    "    total2 = 0\n",
    "    for i in range(n):\n",
    "        for j in range(n):\n",
    "            total1 += c1[i][j]\n",
    "            total2 += c2[i][j]\n",
    "    \n",
    "    if n <= 5:\n",
    "        print('==========')\n",
    "        print(\"(using np.dot()) Sum for n =\", n, ':', total1)\n",
    "        print(\"(using self dot()) Sum for n =\", n, ':', total2)"
   ]
  },
  {
   "cell_type": "code",
   "execution_count": 6,
   "metadata": {},
   "outputs": [],
   "source": [
    "#print('Time for using np.dot():', np_time)\n",
    "#print('Time for using self-built dot():', my_time)"
   ]
  },
  {
   "cell_type": "code",
   "execution_count": 7,
   "metadata": {},
   "outputs": [
    {
     "data": {
      "image/png": "[encoded data removed]",
      "text/plain": [
       "<Figure size 432x288 with 1 Axes>"
      ]
     },
     "metadata": {
      "needs_background": "light"
     },
     "output_type": "display_data"
    }
   ],
   "source": [
    "import matplotlib.pyplot as plt\n",
    "\n",
    "plt.plot(size, np_time, label='np.dot()', color='green')\n",
    "plt.plot(size, my_time, label='my dot()', color='blue')\n",
    "\n",
    "plt.title('Execution Time')\n",
    "plt.xlabel('n')\n",
    "plt.ylabel('time [s]')\n",
    "\n",
    "plt.legend()\n",
    "plt.show()"
   ]
  },
  {
   "cell_type": "code",
   "execution_count": null,
   "metadata": {},
   "outputs": [],
   "source": []
  }
 ],
 "metadata": {
  "kernelspec": {
   "display_name": "Python 3",
   "language": "python",
   "name": "python3"
  },
  "language_info": {
   "codemirror_mode": {
    "name": "ipython",
    "version": 3
   },
   "file_extension": ".py",
   "mimetype": "text/x-python",
   "name": "python",
   "nbconvert_exporter": "python",
   "pygments_lexer": "ipython3",
   "version": "3.7.4"
  }
 },
 "nbformat": 4,
 "nbformat_minor": 4
}
