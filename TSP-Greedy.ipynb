{
 "cells": [
  {
   "cell_type": "code",
   "execution_count": 5,
   "metadata": {},
   "outputs": [],
   "source": [
    "class TSP:\n",
    "    \n",
    "    def __init__(self, cities):\n",
    "        self.cities = cities\n",
    "        self.n = len(self.cities)\n",
    "        self.dist = [[0] * self.n for i in range(self.n)]\n",
    "        pass\n",
    "    \n",
    "    \n",
    "    def twoCitiesDistance(self, city1, city2):\n",
    "        return math.sqrt((city1[0] - city2[0]) ** 2 + (city1[1] - city2[1]) ** 2)\n",
    "        pass\n",
    "    \n",
    "    \n",
    "    def totalDistance(self, tour):\n",
    "\n",
    "        start = tour\n",
    "        end = tour[1:]\n",
    "        end.append(tour[0])\n",
    "        distance = 0\n",
    "    \n",
    "        for i, j in zip(start,end):\n",
    "            distance += self.dist[i][j]\n",
    "        \n",
    "        return distance\n",
    "        pass\n",
    "    \n",
    "    \n",
    "    def calcDistanceMatrix(self):\n",
    "        for i in range(self.n):\n",
    "            for j in range(i, self.n):\n",
    "                self.dist[i][j] = self.dist[j][i] = self.twoCitiesDistance(self.cities[i], self.cities[j])\n",
    "        pass\n",
    "    \n",
    "        \n",
    "    ## solve: greedy algorithm\n",
    "    def solve(self):\n",
    "        \n",
    "        self.calcDistanceMatrix()\n",
    "\n",
    "        best_tour = []\n",
    "        shortest_dist = float('inf')\n",
    "        \n",
    "        for current_city in range(self.n):\n",
    "            unvisited_cities = set(list(range(0,current_city)) + list(range(current_city+1,self.n)))\n",
    "            tour = [current_city]\n",
    "\n",
    "            while unvisited_cities:\n",
    "                next_city = min(unvisited_cities, key=lambda city: self.dist[current_city][city])\n",
    "                unvisited_cities.remove(next_city)\n",
    "                tour.append(next_city)\n",
    "                current_city = next_city\n",
    "                \n",
    "            distance = self.totalDistance(tour)\n",
    "            if distance < shortest_dist:\n",
    "                shortest_dist = distance\n",
    "                best_tour = tour\n",
    "            \n",
    "        return best_tour, shortest_dist\n",
    "        pass"
   ]
  },
  {
   "cell_type": "code",
   "execution_count": 6,
   "metadata": {},
   "outputs": [],
   "source": [
    "if __name__ == '__main__':\n",
    "    \n",
    "    import sys\n",
    "    import math\n",
    "    from common import print_tour, read_input"
   ]
  },
  {
   "cell_type": "code",
   "execution_count": 9,
   "metadata": {},
   "outputs": [],
   "source": [
    "input_data = read_input('input_2.csv')\n",
    "solution = TSP(input_data)\n",
    "best_tour, shortest_dist = solution.solve()"
   ]
  },
  {
   "cell_type": "code",
   "execution_count": 10,
   "metadata": {},
   "outputs": [
    {
     "name": "stdout",
     "output_type": "stream",
     "text": [
      "index\n",
      "12\n",
      "15\n",
      "4\n",
      "13\n",
      "10\n",
      "0\n",
      "8\n",
      "7\n",
      "14\n",
      "2\n",
      "3\n",
      "5\n",
      "11\n",
      "1\n",
      "6\n",
      "9\n",
      "5065.575697525618\n"
     ]
    }
   ],
   "source": [
    "print_tour(best_tour)\n",
    "print(shortest_dist)"
   ]
  },
  {
   "cell_type": "code",
   "execution_count": 13,
   "metadata": {},
   "outputs": [],
   "source": [
    "input_data = read_input('input_3.csv')\n",
    "solution = TSP(input_data)\n",
    "best_tour, shortest_dist = solution.solve()"
   ]
  },
  {
   "cell_type": "code",
   "execution_count": 14,
   "metadata": {},
   "outputs": [
    {
     "name": "stdout",
     "output_type": "stream",
     "text": [
      "9276.223768646349\n"
     ]
    }
   ],
   "source": [
    "#print_tour(best_tour)\n",
    "print(shortest_dist)"
   ]
  },
  {
   "cell_type": "code",
   "execution_count": null,
   "metadata": {},
   "outputs": [],
   "source": []
  }
 ],
 "metadata": {
  "kernelspec": {
   "display_name": "Python 3",
   "language": "python",
   "name": "python3"
  },
  "language_info": {
   "codemirror_mode": {
    "name": "ipython",
    "version": 3
   },
   "file_extension": ".py",
   "mimetype": "text/x-python",
   "name": "python",
   "nbconvert_exporter": "python",
   "pygments_lexer": "ipython3",
   "version": "3.7.4"
  }
 },
 "nbformat": 4,
 "nbformat_minor": 4
}
