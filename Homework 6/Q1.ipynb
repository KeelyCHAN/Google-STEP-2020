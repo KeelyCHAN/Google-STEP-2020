{
 "cells": [
  {
   "cell_type": "code",
   "execution_count": 1,
   "metadata": {},
   "outputs": [],
   "source": [
    "def foo(b):\n",
    "    print('==========')\n",
    "    print('## Initial ##\\nid(b):', id(b))\n",
    "    print('id(a):', id(a))\n",
    "    \n",
    "    # step1: append\n",
    "    b.append(2)\n",
    "    print('\\n## Step 1: After appending ##\\nid(b):', id(b))\n",
    "    print('id(a):', id(a))\n",
    "    \n",
    "    # step2: \n",
    "    b = b + [3]\n",
    "    print('\\n## Step 2: After adding ##\\nid(b):', id(b))\n",
    "    print('id(a):', id(a))\n",
    "    \n",
    "    # step3: append\n",
    "    b.append(4)\n",
    "    print('\\n## Step 3: After appending ##\\nid(b):', id(b))\n",
    "    print('id(a):', id(a))\n",
    "    print('\\nb:', b)\n",
    "    print('==========')"
   ]
  },
  {
   "cell_type": "code",
   "execution_count": 2,
   "metadata": {},
   "outputs": [
    {
     "name": "stdout",
     "output_type": "stream",
     "text": [
      "Initial: id(a): 4453479440\n",
      "==========\n",
      "## Initial ##\n",
      "id(b): 4453479440\n",
      "id(a): 4453479440\n",
      "\n",
      "## Step 1: After appending ##\n",
      "id(b): 4453479440\n",
      "id(a): 4453479440\n",
      "\n",
      "## Step 2: After adding ##\n",
      "id(b): 4453177056\n",
      "id(a): 4453479440\n",
      "\n",
      "## Step 3: After appending ##\n",
      "id(b): 4453177056\n",
      "id(a): 4453479440\n",
      "\n",
      "b: [1, 2, 3, 4]\n",
      "==========\n",
      "a: [1, 2]\n",
      "Final: id(a): 4453479440\n"
     ]
    }
   ],
   "source": [
    "# Allocate a\n",
    "a = [1]\n",
    "print('Initial: id(a):', id(a))\n",
    "\n",
    "foo(a)\n",
    "print('a:', a)\n",
    "print('Final: id(a):', id(a))"
   ]
  },
  {
   "cell_type": "markdown",
   "metadata": {},
   "source": [
    "Description\n",
    "===\n",
    "### Background\n",
    "1. A list is a mutable object in Python, which means that it allows modification after creation. \n",
    "2. A unique object has a unique ID (obtained by id()) in python.\n",
    "\n",
    "### Initial\n",
    "1. We create a new list object instance, [1], which is referred by variable 'a'. \n",
    "2. We pass this reference to function foo(). As a result, variable 'b' also refers to object instance [1].\n",
    "3. Variables 'a' and 'b' refer to the same object [1]. (id(a) == id(b))\n",
    "\n",
    "### Inside foo()\n",
    "1. We do the append operation to the object referred by variable 'b'. Since a list is a mutable object, the original object [1] turns into [1,2]. As a result, a == b == [1,2]. Variables 'a' and 'b' refer to the same object [1,2]. (id(a) == id(b))\n",
    "2. We do add 'b' by [3]. It is a re-assignment operation rather than a modification operation. We create a new object instance [1,2,3] which is refered by variable 'b'. The original object [1,2] is still refered by object 'a'. id(a) != id(b), since they are two different objects.\n",
    "3. We do the append operation to the object referred by variable 'b'. (The same as step 1). 'b' refers to [1,2,3,4]\n",
    "\n",
    "### Final\n",
    "'a' --> [1,2], 'b' --> [1,2,3,4]. Different object with different object id."
   ]
  }
 ],
 "metadata": {
  "kernelspec": {
   "display_name": "Python 3",
   "language": "python",
   "name": "python3"
  },
  "language_info": {
   "codemirror_mode": {
    "name": "ipython",
    "version": 3
   },
   "file_extension": ".py",
   "mimetype": "text/x-python",
   "name": "python",
   "nbconvert_exporter": "python",
   "pygments_lexer": "ipython3",
   "version": "3.7.4"
  }
 },
 "nbformat": 4,
 "nbformat_minor": 4
}
