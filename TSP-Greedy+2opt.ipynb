{
 "cells": [
  {
   "cell_type": "code",
   "execution_count": 60,
   "metadata": {},
   "outputs": [],
   "source": [
    "class TSP:\n",
    "    \n",
    "    def __init__(self, cities):\n",
    "        self.cities = cities\n",
    "        self.n = len(self.cities)\n",
    "        self.dist = [[0] * self.n for i in range(self.n)]\n",
    "        pass\n",
    "    \n",
    "    \n",
    "    def twoCitiesDistance(self, city1, city2):\n",
    "        return math.sqrt((city1[0] - city2[0]) ** 2 + (city1[1] - city2[1]) ** 2)\n",
    "        pass\n",
    "    \n",
    "    \n",
    "    def totalDistance(self, tour):\n",
    "\n",
    "        start = tour\n",
    "        end = tour[1:]\n",
    "        end.append(tour[0])\n",
    "        distance = 0\n",
    "    \n",
    "        for i, j in zip(start,end):\n",
    "            distance += self.dist[i][j]\n",
    "        \n",
    "        return distance\n",
    "        pass\n",
    "    \n",
    "    \n",
    "    def distanceMatrix(self):\n",
    "        for i in range(self.n):\n",
    "            for j in range(i, self.n):\n",
    "                self.dist[i][j] = self.dist[j][i] = self.twoCitiesDistance(self.cities[i], self.cities[j])\n",
    "        pass\n",
    "    \n",
    "    \n",
    "    def compareTour(self, tour1, tour2):\n",
    "        if self.totalDistance(tour1) <= self.totalDistance(tour2):\n",
    "            return True\n",
    "        else:\n",
    "            return False\n",
    "        pass\n",
    "    \n",
    "    \n",
    "    def swapPath(self, tour):\n",
    "        \n",
    "        idx1 = np.random.randint(0, self.n)\n",
    "        idx2 = np.random.randint(0, self.n)\n",
    "        while abs(idx1-idx2) <= 1:\n",
    "            idx2 = np.random.randint(0, self.n)\n",
    "            \n",
    "        new_tour = tour.copy()\n",
    "        new_tour[idx1+1:idx2+1] = new_tour[idx2:idx1:-1]\n",
    "        return new_tour\n",
    "        pass\n",
    "    \n",
    "\n",
    "    def greedy(self):\n",
    "\n",
    "        best_tour = []\n",
    "        shortest_dist = float('inf')\n",
    "        \n",
    "        for current_city in range(self.n):\n",
    "            unvisited_cities = set(list(range(0,current_city)) + list(range(current_city+1,self.n)))\n",
    "            tour = [current_city]\n",
    "\n",
    "            while unvisited_cities:\n",
    "                next_city = min(unvisited_cities, key=lambda city: self.dist[current_city][city])\n",
    "                unvisited_cities.remove(next_city)\n",
    "                tour.append(next_city)\n",
    "                current_city = next_city\n",
    "                \n",
    "            distance = self.totalDistance(tour)\n",
    "            if distance < shortest_dist:\n",
    "                shortest_dist = distance\n",
    "                best_tour = tour\n",
    "                \n",
    "        return best_tour\n",
    "        pass\n",
    "        \n",
    "    \n",
    "    ## solve: greedy algorithm\n",
    "    def solve(self):\n",
    "        \n",
    "        self.distanceMatrix()\n",
    "        best_tour = self.greedy()\n",
    "        \n",
    "        count = 0\n",
    "        max_count = 5000\n",
    "        \n",
    "        while count <= max_count:\n",
    "            new_tour = self.swapPath(best_tour)\n",
    "            if self.compareTour(best_tour, new_tour):\n",
    "                count += 1\n",
    "            else:\n",
    "                count = 0\n",
    "                best_tour = new_tour\n",
    "        \n",
    "        return best_tour, self.totalDistance(best_tour)      "
   ]
  },
  {
   "cell_type": "code",
   "execution_count": 2,
   "metadata": {},
   "outputs": [],
   "source": [
    "if __name__ == '__main__':\n",
    "    \n",
    "    import sys\n",
    "    import math\n",
    "    import numpy as np\n",
    "    from common import print_tour, read_input"
   ]
  },
  {
   "cell_type": "code",
   "execution_count": 3,
   "metadata": {},
   "outputs": [],
   "source": [
    "input_data = read_input('input_2.csv')\n",
    "solution = TSP(input_data)\n",
    "best_tour, shortest_dist = solution.solve()"
   ]
  },
  {
   "cell_type": "code",
   "execution_count": 4,
   "metadata": {},
   "outputs": [
    {
     "name": "stdout",
     "output_type": "stream",
     "text": [
      "===== Best Tour =====\n",
      "index\n",
      "12\n",
      "15\n",
      "4\n",
      "13\n",
      "10\n",
      "0\n",
      "8\n",
      "7\n",
      "14\n",
      "2\n",
      "3\n",
      "5\n",
      "11\n",
      "1\n",
      "9\n",
      "6\n",
      "===== Shortest Distance =====\n",
      " 4937.184243121785\n"
     ]
    }
   ],
   "source": [
    "print('===== Best Tour =====')\n",
    "print_tour(best_tour)\n",
    "print('===== Shortest Distance =====\\n', shortest_dist)"
   ]
  },
  {
   "cell_type": "code",
   "execution_count": 7,
   "metadata": {},
   "outputs": [],
   "source": [
    "input_data = read_input('input_3.csv')\n",
    "solution = TSP(input_data)\n",
    "best_tour, shortest_dist = solution.solve()"
   ]
  },
  {
   "cell_type": "code",
   "execution_count": 8,
   "metadata": {},
   "outputs": [
    {
     "name": "stdout",
     "output_type": "stream",
     "text": [
      "===== Shortest Distance =====\n",
      " 8164.156791587517\n"
     ]
    }
   ],
   "source": [
    "#print('===== Best Tour =====')\n",
    "#print_tour(best_tour)\n",
    "print('===== Shortest Distance =====\\n', shortest_dist)"
   ]
  },
  {
   "cell_type": "code",
   "execution_count": 47,
   "metadata": {},
   "outputs": [],
   "source": [
    "input_data = read_input('input_4.csv')\n",
    "solution = TSP(input_data)\n",
    "best_tour, shortest_dist = solution.solve()"
   ]
  },
  {
   "cell_type": "code",
   "execution_count": 48,
   "metadata": {},
   "outputs": [
    {
     "name": "stdout",
     "output_type": "stream",
     "text": [
      "===== Shortest Distance =====\n",
      " 11094.806875631652\n"
     ]
    }
   ],
   "source": [
    "#print('===== Best Tour =====')\n",
    "#print_tour(best_tour)\n",
    "print('===== Shortest Distance =====\\n', shortest_dist)"
   ]
  },
  {
   "cell_type": "code",
   "execution_count": 61,
   "metadata": {},
   "outputs": [],
   "source": [
    "input_data = read_input('input_5.csv')\n",
    "solution = TSP(input_data)\n",
    "best_tour, shortest_dist = solution.solve()"
   ]
  },
  {
   "cell_type": "code",
   "execution_count": 62,
   "metadata": {},
   "outputs": [
    {
     "name": "stdout",
     "output_type": "stream",
     "text": [
      "===== Shortest Distance =====\n",
      " 23473.899189166586\n"
     ]
    }
   ],
   "source": [
    "#print('===== Best Tour =====')\n",
    "#print_tour(best_tour)\n",
    "print('===== Shortest Distance =====\\n', shortest_dist)"
   ]
  },
  {
   "cell_type": "code",
   "execution_count": 63,
   "metadata": {},
   "outputs": [],
   "source": [
    "input_data = read_input('input_6.csv')\n",
    "solution = TSP(input_data)\n",
    "best_tour, shortest_dist = solution.solve()"
   ]
  },
  {
   "cell_type": "code",
   "execution_count": 64,
   "metadata": {},
   "outputs": [
    {
     "name": "stdout",
     "output_type": "stream",
     "text": [
      "===== Shortest Distance =====\n",
      " 47822.4134457014\n"
     ]
    }
   ],
   "source": [
    "#print('===== Best Tour =====')\n",
    "#print_tour(best_tour)\n",
    "print('===== Shortest Distance =====\\n', shortest_dist)"
   ]
  }
 ],
 "metadata": {
  "kernelspec": {
   "display_name": "Python 3",
   "language": "python",
   "name": "python3"
  },
  "language_info": {
   "codemirror_mode": {
    "name": "ipython",
    "version": 3
   },
   "file_extension": ".py",
   "mimetype": "text/x-python",
   "name": "python",
   "nbconvert_exporter": "python",
   "pygments_lexer": "ipython3",
   "version": "3.7.4"
  }
 },
 "nbformat": 4,
 "nbformat_minor": 4
}
