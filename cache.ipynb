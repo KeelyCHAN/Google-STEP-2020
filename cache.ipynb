{
 "cells": [
  {
   "cell_type": "code",
   "execution_count": 1,
   "metadata": {},
   "outputs": [],
   "source": [
    "class Cache:\n",
    "    \n",
    "    ## Initialization ##\n",
    "    def __init__(self, n):\n",
    "        \n",
    "        self.size = n\n",
    "        self.cache = OrderedDict()\n",
    "        pass\n",
    "    \n",
    "    \n",
    "    ## Access a page and update the cache ##\n",
    "    # (make the cache stores the most recently accessed N pages)\n",
    "    def access_page(self, url, contents):\n",
    "        \n",
    "        # if the accessed page is in cache: remove it from cache\n",
    "        if url in self.cache:\n",
    "            self.cache.pop(url)\n",
    "        # if the accessed page isn't in cache and cache is full: remove the earliest page from cache\n",
    "        elif len(self.cache) == self.size:\n",
    "            self.cache.popitem(last = False)\n",
    "            \n",
    "        # update cache\n",
    "        self.cache[url] = contents\n",
    "        pass\n",
    "    \n",
    "\n",
    "    ## Return the URLs stored in the cache. ##\n",
    "    # (the URLs are in the order which the URLs are mostly recently accessed)\n",
    "    def get_pages(self):\n",
    "        \n",
    "        cache = list(self.cache.keys())[::-1]\n",
    "        return cache\n",
    "        pass"
   ]
  },
  {
   "cell_type": "code",
   "execution_count": 2,
   "metadata": {},
   "outputs": [],
   "source": [
    "## Check if the contents of two lists is the same ##\n",
    "def equal(list1, list2):\n",
    "    \n",
    "    assert(list1 == list2)\n",
    "    for i in range(len(list1)):\n",
    "        assert(list1[i] == list2[i])\n",
    "    pass"
   ]
  },
  {
   "cell_type": "code",
   "execution_count": 3,
   "metadata": {},
   "outputs": [],
   "source": [
    "## Test cases ##\n",
    "def cache_test():\n",
    "        \n",
    "    cache = Cache(4)\n",
    "    equal(cache.get_pages(), [])   # no page is cached initially\n",
    "        \n",
    "    cache.access_page(\"a.com\", \"AAA\")   # access \"a.com\"\n",
    "    equal(cache.get_pages(), [\"a.com\"])\n",
    "        \n",
    "    cache.access_page(\"b.com\", \"BBB\")   # access \"b.com\"\n",
    "    equal(cache.get_pages(), [\"b.com\", \"a.com\"])\n",
    "        \n",
    "    cache.access_page(\"c.com\", \"CCC\")   # access \"c.com\"\n",
    "    equal(cache.get_pages(), [\"c.com\", \"b.com\", \"a.com\"])\n",
    "        \n",
    "    cache.access_page(\"d.com\", \"DDD\")   # access \"d.com\"\n",
    "    equal(cache.get_pages(), [\"d.com\", \"c.com\", \"b.com\", \"a.com\"])\n",
    "        \n",
    "    cache.access_page(\"d.com\", \"DDD\")   # access \"d.com\" again\n",
    "    equal(cache.get_pages(), [\"d.com\", \"c.com\", \"b.com\", \"a.com\"])\n",
    "        \n",
    "    cache.access_page(\"a.com\", \"AAA\")   # access \"a.com\" again\n",
    "    equal(cache.get_pages(), [\"a.com\", \"d.com\", \"c.com\", \"b.com\"])\n",
    "        \n",
    "    cache.access_page(\"c.com\", \"CCC\")   # access \"c.com\" again\n",
    "    equal(cache.get_pages(), [\"c.com\", \"a.com\", \"d.com\", \"b.com\"])\n",
    "        \n",
    "    cache.access_page(\"a.com\", \"AAA\")   # access \"a.com\" again\n",
    "    equal(cache.get_pages(), [\"a.com\", \"c.com\", \"d.com\", \"b.com\"])\n",
    "        \n",
    "    cache.access_page(\"a.com\", \"AAA\")   # access \"a.com\" again\n",
    "    equal(cache.get_pages(), [\"a.com\", \"c.com\", \"d.com\", \"b.com\"])\n",
    "  \n",
    "    cache.access_page(\"e.com\", \"EEE\")   # access \"e.com\".\n",
    "    equal(cache.get_pages(), [\"e.com\", \"a.com\", \"c.com\", \"d.com\"])\n",
    "        \n",
    "    cache.access_page(\"f.com\", \"FFF\")   # access \"f.com\"\n",
    "    equal(cache.get_pages(), [\"f.com\", \"e.com\", \"a.com\", \"c.com\"])\n",
    "        \n",
    "    print(\"Pass all test cases!!\")\n",
    "    pass"
   ]
  },
  {
   "cell_type": "code",
   "execution_count": 4,
   "metadata": {},
   "outputs": [
    {
     "name": "stdout",
     "output_type": "stream",
     "text": [
      "Pass all test cases!!\n"
     ]
    }
   ],
   "source": [
    "if __name__ == \"__main__\":\n",
    "    \n",
    "    import sys\n",
    "    from collections import OrderedDict\n",
    "    \n",
    "    cache_test()"
   ]
  },
  {
   "cell_type": "code",
   "execution_count": null,
   "metadata": {},
   "outputs": [],
   "source": []
  }
 ],
 "metadata": {
  "kernelspec": {
   "display_name": "Python 3",
   "language": "python",
   "name": "python3"
  },
  "language_info": {
   "codemirror_mode": {
    "name": "ipython",
    "version": 3
   },
   "file_extension": ".py",
   "mimetype": "text/x-python",
   "name": "python",
   "nbconvert_exporter": "python",
   "pygments_lexer": "ipython3",
   "version": "3.7.4"
  }
 },
 "nbformat": 4,
 "nbformat_minor": 4
}
