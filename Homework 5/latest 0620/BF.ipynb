{
 "cells": [
  {
   "cell_type": "code",
   "execution_count": 1,
   "metadata": {},
   "outputs": [],
   "source": [
    "# Basic solution: brute force\n",
    "# TC: O(n!)\n",
    "# SC: O(n^2)\n",
    "\n",
    "# Advandtage: guaranteen to find the best solution\n",
    "# Disadvantage: time-consuming\n",
    "\n",
    "# Apply BF algorithm to solve case 0 (n=5) and case 1 (n=8)"
   ]
  },
  {
   "cell_type": "code",
   "execution_count": 2,
   "metadata": {},
   "outputs": [],
   "source": [
    "class TSP:\n",
    "    \n",
    "    def __init__(self, cities):\n",
    "        self.cities = cities\n",
    "        pass\n",
    "    \n",
    "    \n",
    "    def twoCitiesDistance(self, city1, city2):\n",
    "        return math.sqrt((city1[0] - city2[0]) ** 2 + (city1[1] - city2[1]) ** 2)\n",
    "        pass\n",
    "    \n",
    "    \n",
    "    def totalDistance(self, tour, dist):\n",
    "    \n",
    "        n = len(tour)\n",
    "        start = tour\n",
    "        end = tour[1:]\n",
    "        end.append(tour[0])\n",
    "        \n",
    "        distance = 0\n",
    "        for i, j in zip(start,end):\n",
    "            distance += dist[i][j]\n",
    "        \n",
    "        return distance\n",
    "        pass\n",
    "    \n",
    "    \n",
    "    ## solve: brute force algorithm\n",
    "    # rtype: list (ordered index of city)\n",
    "    # rtype: float (shortest distance)\n",
    "    def solve(self):\n",
    "        \n",
    "        N = len(self.cities)\n",
    "        dist = [[0] * N for i in range(N)]\n",
    "        \n",
    "        for i in range(N):\n",
    "            for j in range(i, N):\n",
    "                dist[i][j] = dist[j][i] = self.twoCitiesDistance(self.cities[i], self.cities[j])\n",
    "                \n",
    "        shortest_dist = float('inf')\n",
    "        best_tour = []\n",
    "        \n",
    "        for tour in list(permutations(range(0,N))):\n",
    "            tour = list(tour)\n",
    "            distance = self.totalDistance(tour,dist)\n",
    "            if distance < shortest_dist:\n",
    "                shortest_dist = distance\n",
    "                best_tour = tour\n",
    "            \n",
    "        return best_tour, shortest_dist\n",
    "        pass"
   ]
  },
  {
   "cell_type": "code",
   "execution_count": 3,
   "metadata": {},
   "outputs": [],
   "source": [
    "if __name__ == '__main__':\n",
    "    \n",
    "    import sys\n",
    "    import math\n",
    "    from itertools import permutations\n",
    "    from common import print_tour, read_input"
   ]
  },
  {
   "cell_type": "code",
   "execution_count": 4,
   "metadata": {},
   "outputs": [],
   "source": [
    "# N = 5\n",
    "input_data = read_input('input_0.csv')\n",
    "solution = TSP(input_data)\n",
    "tour, shortest_dist = solution.solve()"
   ]
  },
  {
   "cell_type": "code",
   "execution_count": 5,
   "metadata": {},
   "outputs": [
    {
     "name": "stdout",
     "output_type": "stream",
     "text": [
      "===== Best Tour =====\n",
      "index\n",
      "0\n",
      "3\n",
      "1\n",
      "2\n",
      "4\n",
      "===== Shortest Distance =====\n",
      " 3291.6217214092458\n"
     ]
    }
   ],
   "source": [
    "print('===== Best Tour =====')\n",
    "print_tour(tour)\n",
    "print('===== Shortest Distance =====\\n', shortest_dist)"
   ]
  },
  {
   "cell_type": "code",
   "execution_count": 6,
   "metadata": {},
   "outputs": [],
   "source": [
    "# N = 8\n",
    "input_data = read_input('input_1.csv')\n",
    "solution = TSP(input_data)\n",
    "tour, shortest_dist = solution.solve()"
   ]
  },
  {
   "cell_type": "code",
   "execution_count": 7,
   "metadata": {},
   "outputs": [
    {
     "name": "stdout",
     "output_type": "stream",
     "text": [
      "===== Best Tour =====\n",
      "index\n",
      "1\n",
      "6\n",
      "2\n",
      "4\n",
      "0\n",
      "7\n",
      "3\n",
      "5\n",
      "===== Shortest Distance =====\n",
      " 3778.7154164925378\n"
     ]
    }
   ],
   "source": [
    "print('===== Best Tour =====')\n",
    "print_tour(tour)\n",
    "print('===== Shortest Distance =====\\n', shortest_dist)"
   ]
  }
 ],
 "metadata": {
  "kernelspec": {
   "display_name": "Python 3",
   "language": "python",
   "name": "python3"
  },
  "language_info": {
   "codemirror_mode": {
    "name": "ipython",
    "version": 3
   },
   "file_extension": ".py",
   "mimetype": "text/x-python",
   "name": "python",
   "nbconvert_exporter": "python",
   "pygments_lexer": "ipython3",
   "version": "3.7.4"
  }
 },
 "nbformat": 4,
 "nbformat_minor": 4
}
