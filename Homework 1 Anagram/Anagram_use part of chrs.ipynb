{
 "cells": [
  {
   "cell_type": "code",
   "execution_count": 1,
   "metadata": {},
   "outputs": [],
   "source": [
    "## This program is to generate ALL anagrams for a given word/string ##\n",
    "## For example: all anagrams for Appleee\n",
    "\n",
    "## Input: string that contains random letters (upper case or lower case)\n",
    "# input that contains NOT ONLY alphabet will be regarded as invalid\n",
    "## Output: ALL matched anagrams in the given dictionary\n",
    "\n",
    "# Regardless of upper / lower case. For example, apple is an angram for Applee\n",
    "\n",
    "# n: length of input string; m: length of dictionary\n",
    "# Time complexity: O(2^n * log(m)) \n",
    "# Space complexity: O(2^n + 2m)"
   ]
  },
  {
   "cell_type": "code",
   "execution_count": 2,
   "metadata": {},
   "outputs": [],
   "source": [
    "class anagram:\n",
    "    \n",
    "    def __init__(self):\n",
    "        pass\n",
    "    \n",
    "    \n",
    "    ## define pre-processing of a given dictionary ##\n",
    "    def dictionary_processor(self, dictionary):\n",
    "        \n",
    "        sorted_dictionary = []\n",
    "        \n",
    "        # process each word in dict: upper(word) and sort(word)\n",
    "        for word in dictionary:\n",
    "            new_word = word.lower()\n",
    "            sorted_word = ''.join(sorted(new_word))\n",
    "            sorted_dictionary.append([sorted_word,word])\n",
    "            \n",
    "        # sort(whole dictionary)\n",
    "        sorted_dictionary = sorted(sorted_dictionary)\n",
    "        return sorted_dictionary\n",
    "        pass      \n",
    "    \n",
    "    \n",
    "    ## generate a set of ALL sub-strings for a given string ##\n",
    "    def sub_strings_generator(self, word):\n",
    "        \n",
    "        substrs_set = []\n",
    "        \n",
    "        for i in range(len(word)):\n",
    "            for c in combinations(word, i+1):\n",
    "                sub_string = ''.join(sorted(c))\n",
    "                substrs_set.append(sub_string)\n",
    "        \n",
    "        substrs_set = list(set(substrs_set))\n",
    "        print('There are', len(substrs_set), 'sub-strings.')\n",
    "        return substrs_set\n",
    "        pass\n",
    "    \n",
    "    \n",
    "    ## return INDEX of a anagram in the dictionary, if the anagram matches the given word ##\n",
    "    ## using binary search ##\n",
    "    def binary_search_dictionary(self, word, dictionary):\n",
    "        \n",
    "        left = 0\n",
    "        right = len(dictionary) - 1  \n",
    "    \n",
    "        while left <= right:\n",
    "            middle = (left + right) // 2  \n",
    "            key = dictionary[middle][0]\n",
    "        \n",
    "            if key > word:\n",
    "                right = middle - 1\n",
    "            elif key < word:\n",
    "                left = middle + 1\n",
    "            else:\n",
    "                return middle\n",
    "        pass\n",
    "    \n",
    "    \n",
    "    ## judge whehter an input string is valid\n",
    "    # valid case: contains ONLY alphabet\n",
    "    def alphabet_judger(self, word):\n",
    "        return word.isalpha()\n",
    "        pass\n",
    "    \n",
    "        \n",
    "    def solve(self, random_word, dictionary):\n",
    "        \n",
    "        if not self.alphabet_judger(random_word):\n",
    "            print('Oops~! The input string is NOT VALID!')\n",
    "            return None\n",
    "    \n",
    "        # pre-process given letters\n",
    "        random_word = random_word.lower()\n",
    "        candidate_strs = self.sub_strings_generator(random_word)\n",
    "        # pre-process dictionary\n",
    "        sorted_dictionary = self.dictionary_processor(dictionary)\n",
    "        \n",
    "        anagrams = []\n",
    "        \n",
    "        for candidate in candidate_strs:\n",
    "            anagram_index = self.binary_search_dictionary(candidate, sorted_dictionary)\n",
    "            \n",
    "            if anagram_index:\n",
    "                new_anagram = sorted_dictionary[anagram_index][1]\n",
    "                anagrams.append(new_anagram)      \n",
    "        \n",
    "        return anagrams\n",
    "        pass"
   ]
  },
  {
   "cell_type": "code",
   "execution_count": 3,
   "metadata": {},
   "outputs": [],
   "source": [
    "if __name__ == '__main__':\n",
    "    \n",
    "    from itertools import combinations\n",
    "    \n",
    "    path = '/Users/keely/lectures/STEP2020/hw1/'\n",
    "    dictionary_file = open(path + 'dictionary.txt','r')\n",
    "    dictionary = dictionary_file.read().split('\\n')\n",
    "    \n",
    "    ## sorted dictionary: type: List, len: 72413 ##\n",
    "    #print(dictionary)\n",
    "    #print(len(dictionary))\n",
    "    dictionary_file.close"
   ]
  },
  {
   "cell_type": "code",
   "execution_count": 4,
   "metadata": {},
   "outputs": [
    {
     "name": "stdout",
     "output_type": "stream",
     "text": [
      "You can input a random string ~\n"
     ]
    },
    {
     "name": "stdin",
     "output_type": "stream",
     "text": [
      " apPlErde\n"
     ]
    }
   ],
   "source": [
    "print('You can input a random string ~')\n",
    "random_word = input()"
   ]
  },
  {
   "cell_type": "code",
   "execution_count": 5,
   "metadata": {},
   "outputs": [
    {
     "name": "stdout",
     "output_type": "stream",
     "text": [
      "There are 143 sub-strings.\n"
     ]
    }
   ],
   "source": [
    "solution = anagram()\n",
    "anagrams = solution.solve(random_word, dictionary)"
   ]
  },
  {
   "cell_type": "code",
   "execution_count": 6,
   "metadata": {},
   "outputs": [
    {
     "name": "stdout",
     "output_type": "stream",
     "text": [
      "===== Random word =====\n",
      " apPlErde\n",
      "===== All mathced anagrams =====\n",
      " ['deep', 'Depp', 'reed', 'Earle', 'Lapp', 'Earl', 'peep', 'pep', 'Lea', 'ere', 'pearled', 'pealed', 'Apple', 'Del', 'pap', 'lard', 'peer', 'Peale', 'lapped', 'elder', 'lead', 'paler', 'Adele', 'rapped', 'pedal', 'Dee', 'Red', 'Perl', 'alder', 'pale', 'repel', 'repeal', 'pea', 'pal', 'dealer', 'pled', 'pedlar', 'per', 'aped', 'paper', 'pad', 'reel', 'Earp', 'padre', 'lee', 'lad', 'Apr', 'ear', 'reaped', 'Pele', 'prep', 'pee', 'dare', 'papered']\n",
      "There are 54 anagrams.\n"
     ]
    }
   ],
   "source": [
    "print('===== Random word =====\\n', random_word)\n",
    "print('===== All mathced anagrams =====\\n', anagrams)\n",
    "\n",
    "if anagrams: \n",
    "    print('There are', len(anagrams), 'anagrams.')"
   ]
  },
  {
   "cell_type": "markdown",
   "metadata": {},
   "source": []
  }
 ],
 "metadata": {
  "kernelspec": {
   "display_name": "Python 3",
   "language": "python",
   "name": "python3"
  },
  "language_info": {
   "codemirror_mode": {
    "name": "ipython",
    "version": 3
   },
   "file_extension": ".py",
   "mimetype": "text/x-python",
   "name": "python",
   "nbconvert_exporter": "python",
   "pygments_lexer": "ipython3",
   "version": "3.7.4"
  }
 },
 "nbformat": 4,
 "nbformat_minor": 4
}
