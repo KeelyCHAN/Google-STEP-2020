{
 "cells": [
  {
   "cell_type": "code",
   "execution_count": 1,
   "metadata": {},
   "outputs": [],
   "source": [
    "## This program is generated to modified haz-wordz game in http://icanhazwordz.appspot.com ##\n",
    "\n",
    "## Input: string that contains 16 random letters (upper case or lower case)\n",
    "# suggest that input is always valid (contains only alphabet)\n",
    "## Output: ALL matched anagrams in the given dictionary\n",
    "## Output: one of the BEST anagrams (obtain the highest score)\n",
    "\n",
    "# The rule of scoring is in http://icanhazwordz.appspot.com/help\n",
    "# Regardless of upper / lower case. For example, apple is an angram for APPLEE\n",
    "\n",
    "# n: length of input string; m: length of dictionary\n",
    "# Time complexity: O(2^n * log(m)) \n",
    "# Space complexity: O(2^n + 2m)"
   ]
  },
  {
   "cell_type": "code",
   "execution_count": 2,
   "metadata": {},
   "outputs": [],
   "source": [
    "class anagram_game:\n",
    "    \n",
    "    def __init__(self):\n",
    "        # letters' points\n",
    "        self.points = {'A':1,'B':1,'D':1,'E':1,'G':1,'I':1,'N':1,'O':1,'R':1,'S':1,'S':1,'T':1,'U':1,\n",
    "                       'C':2,'F':2,'H':2,'L':2,'M':2,'P':2,'V':2,'W':2,'Y':2,\n",
    "                       'J':3,'K':3,'Q':3,'X':3,'Z':3}  \n",
    "        pass\n",
    "    \n",
    "    \n",
    "    ## define pre-processing of a given dictionary ##\n",
    "    def dictionary_processor(self, dictionary):\n",
    "        \n",
    "        sorted_dictionary = []\n",
    "        \n",
    "        # process each word in dict: upper(word) and sort(word)\n",
    "        for word in dictionary:\n",
    "            new_word = word.upper()\n",
    "            sorted_word = ''.join(sorted(new_word))\n",
    "            sorted_dictionary.append([sorted_word,word])\n",
    "            \n",
    "        # sort(whole dictionary)\n",
    "        sorted_dictionary = sorted(sorted_dictionary)\n",
    "        return sorted_dictionary\n",
    "        pass      \n",
    "    \n",
    "    \n",
    "    ## generate a set of ALL sub-strings for a given string ##\n",
    "    def sub_strings_generator(self, word):\n",
    "        \n",
    "        substrs_set = []\n",
    "        \n",
    "        for i in range(len(word)):\n",
    "            for c in combinations(word, i+1):\n",
    "                sub_string = ''.join(sorted(c))\n",
    "                substrs_set.append(sub_string)\n",
    "        \n",
    "        substrs_set = list(set(substrs_set))\n",
    "        print('There are', len(substrs_set), 'sub-strings.')\n",
    "        return substrs_set\n",
    "        pass\n",
    "    \n",
    "    \n",
    "    ## calculate the point for a given anagram ##\n",
    "    def point_calculator(self, anagram):\n",
    "        \n",
    "        if not anagram:\n",
    "            return 0\n",
    "        \n",
    "        else:\n",
    "            point = 1\n",
    "            i = 0\n",
    "            \n",
    "            while i < len(anagram):\n",
    "                # upper(word) for convenient accessment to self.points\n",
    "                ch = anagram[i].upper()\n",
    "                \n",
    "                if ch != 'Q':\n",
    "                    point += self.points[ch]\n",
    "                    i += 1\n",
    "                else:\n",
    "                    # special rule for Q: 'QU' worths 3 points treated as a whole\n",
    "                    # (There's no word in dict that have a Q that isn't immediately followed by a U.)\n",
    "                    point += self.points['Q']\n",
    "                    i += 2\n",
    "            \n",
    "        point = point**2\n",
    "        return point\n",
    "        pass\n",
    "    \n",
    "    \n",
    "    ## return INDEX of a anagram in the dictionary, if the anagram matches the given word ##\n",
    "    ## using binary search ##\n",
    "    def binary_search_dictionary(self, word, dictionary):\n",
    "        \n",
    "        left = 0\n",
    "        right = len(dictionary) - 1  \n",
    "    \n",
    "        while left <= right:\n",
    "            middle = (left + right) // 2  \n",
    "            key = dictionary[middle][0]\n",
    "        \n",
    "            if key > word:\n",
    "                right = middle - 1\n",
    "            elif key < word:\n",
    "                left = middle + 1\n",
    "            else:\n",
    "                return middle\n",
    "        pass\n",
    "    \n",
    "    \n",
    "    def solve(self, random_word, dictionary):\n",
    "        \n",
    "        # pre-process given letters\n",
    "        random_word = random_word.upper()\n",
    "        candidate_strs = self.sub_strings_generator(random_word)\n",
    "        # pre-process dictionary\n",
    "        sorted_dictionary = self.dictionary_processor(dictionary)\n",
    "        \n",
    "        anagrams = []\n",
    "        max_point = 0\n",
    "        best_anagram = ''\n",
    "        \n",
    "        for candidate in candidate_strs:\n",
    "            anagram_index = self.binary_search_dictionary(candidate, sorted_dictionary)\n",
    "            \n",
    "            if anagram_index:\n",
    "                new_anagram = sorted_dictionary[anagram_index][1]\n",
    "                anagrams.append(new_anagram)      \n",
    "                point = self.point_calculator(new_anagram)\n",
    "                max_point = max(max_point, point)\n",
    "                best_anagram = new_anagram if max_point == point else best_anagram\n",
    "        \n",
    "        return anagrams, best_anagram\n",
    "        pass"
   ]
  },
  {
   "cell_type": "code",
   "execution_count": 3,
   "metadata": {},
   "outputs": [],
   "source": [
    "if __name__ == '__main__':\n",
    "    \n",
    "    import re\n",
    "    from itertools import permutations, combinations\n",
    "    \n",
    "    path = '/Users/keely/lectures/STEP2020/hw1/'\n",
    "    dictionary_file = open(path + 'dictionary.txt','r')\n",
    "    dictionary = dictionary_file.read().split('\\n')\n",
    "    \n",
    "    ## sorted dictionary: type: List, len: 72413 ##\n",
    "    #print(dictionary)\n",
    "    #print(len(dictionary))\n",
    "    dictionary_file.close"
   ]
  },
  {
   "cell_type": "code",
   "execution_count": 4,
   "metadata": {},
   "outputs": [
    {
     "name": "stdout",
     "output_type": "stream",
     "text": [
      "Input 16 letters: \n"
     ]
    },
    {
     "name": "stdin",
     "output_type": "stream",
     "text": [
      " URBDGGGABVFYVMXQU\n"
     ]
    }
   ],
   "source": [
    "print('Input 16 letters: ')\n",
    "letters = input()"
   ]
  },
  {
   "cell_type": "code",
   "execution_count": 5,
   "metadata": {},
   "outputs": [
    {
     "name": "stdout",
     "output_type": "stream",
     "text": [
      "There are 27647 sub-strings.\n"
     ]
    }
   ],
   "source": [
    "solution = anagram_game()\n",
    "all_anagrams, best_anagram = solution.solve(letters, dictionary)"
   ]
  },
  {
   "cell_type": "code",
   "execution_count": 6,
   "metadata": {},
   "outputs": [
    {
     "name": "stdout",
     "output_type": "stream",
     "text": [
      "===== Random letters =====\n",
      " URBDGGGABVFYVMXQU\n",
      "===== All mathced anagrams =====\n",
      " ['dram', 'fax', 'FDR', 'gay', 'Axum', 'quad', 'quay', 'rumba', 'dumb', 'Gray', 'gamy', 'Maud', 'barf', 'Brady', 'dry', 'rub', 'rag', 'drug', 'augury', 'fray', 'guard', 'Ufa', 'bra', 'guy', 'garb', 'gab', 'fad', 'gabby', 'burg', 'yum', 'Bragg', 'vary', 'Guam', 'augur', 'fraud', 'Max', 'gravy', 'gad', 'far', 'Aug', 'Abby', 'bud', 'dug', 'bug', 'bard', 'Baum', 'Mary', 'buggy', 'gaudy', 'daub', 'Day', 'Davy', 'Amur', 'Fay', 'rugby', 'bray', 'ray', 'fag', 'yard', 'Babur', 'Rudy', 'drub', 'Urdu', 'dam', 'rum', 'grubby', 'buy', 'farm', 'Amy', 'bum', 'mud', 'fury', 'Grady', 'fry', 'barb', 'ruby', 'gum', 'muggy', 'dab', 'rug', 'gram', 'Byrd', 'drag', 'gag', 'guru', 'baggy', 'fur', 'drum', 'gym', 'bay', 'Mar', 'Marx']\n",
      "There are 92 anagrams.\n",
      "===== The BEST anagram =====\n",
      " Marx\n"
     ]
    }
   ],
   "source": [
    "print('===== Random letters =====\\n', letters)\n",
    "print('===== All mathced anagrams =====\\n', all_anagrams)\n",
    "print('There are', len(all_anagrams), 'anagrams.')\n",
    "print('===== The BEST anagram =====\\n', best_anagram)"
   ]
  },
  {
   "cell_type": "code",
   "execution_count": null,
   "metadata": {},
   "outputs": [],
   "source": []
  }
 ],
 "metadata": {
  "kernelspec": {
   "display_name": "Python 3",
   "language": "python",
   "name": "python3"
  },
  "language_info": {
   "codemirror_mode": {
    "name": "ipython",
    "version": 3
   },
   "file_extension": ".py",
   "mimetype": "text/x-python",
   "name": "python",
   "nbconvert_exporter": "python",
   "pygments_lexer": "ipython3",
   "version": "3.7.4"
  }
 },
 "nbformat": 4,
 "nbformat_minor": 4
}
