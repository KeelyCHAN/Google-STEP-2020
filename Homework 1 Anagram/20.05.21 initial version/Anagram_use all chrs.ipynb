{
 "cells": [
  {
   "cell_type": "code",
   "execution_count": 1,
   "metadata": {},
   "outputs": [],
   "source": [
    "class Anagram:\n",
    "    \n",
    "    def __init__(self):\n",
    "        pass\n",
    "    \n",
    "    def binary_search_dictionary(self, word, dictionary):\n",
    "        \n",
    "        left = 0\n",
    "        right = len(dictionary) - 1  \n",
    "    \n",
    "        while left <= right:\n",
    "            middle = (left + right) // 2  \n",
    "            key = dictionary[middle][0]\n",
    "        \n",
    "            if key > word:\n",
    "                right = middle - 1\n",
    "            elif key < word:\n",
    "                left = middle + 1\n",
    "            else:\n",
    "                return middle\n",
    "        pass\n",
    "    \n",
    "    def solve(self, random_word, dictionary):\n",
    "        \n",
    "        sorted_random_word = sorted(random_word)\n",
    "        \n",
    "        sorted_dictionary = []\n",
    "        for word in dictionary:\n",
    "            sorted_word = sorted(word)\n",
    "            sorted_dictionary.append([sorted_word,word])\n",
    "        sorted_dictionary = sorted(sorted_dictionary)\n",
    "        \n",
    "        anagram_index = self.binary_search_dictionary(sorted_random_word, sorted_dictionary)\n",
    "        return sorted_dictionary[anagram_index][1]\n",
    "        pass"
   ]
  },
  {
   "cell_type": "code",
   "execution_count": 2,
   "metadata": {},
   "outputs": [],
   "source": [
    "if __name__ == '__main__':\n",
    "    \n",
    "    # read sorted dictionary #\n",
    "    path = '/Users/keely/lectures/STEP2020/hw1/'\n",
    "    dictionary_file = open(path + 'dictionary.txt','r')\n",
    "    dictionary = dictionary_file.read().split('\\n')\n",
    "    \n",
    "    ## sorted dictionary: type: List, len: 72413 ##\n",
    "    #print(dictionary)\n",
    "    #print(len(dictionary))\n",
    "    dictionary_file.close"
   ]
  },
  {
   "cell_type": "code",
   "execution_count": 4,
   "metadata": {},
   "outputs": [
    {
     "name": "stdin",
     "output_type": "stream",
     "text": [
      " appel\n"
     ]
    }
   ],
   "source": [
    "random_word = input()"
   ]
  },
  {
   "cell_type": "code",
   "execution_count": 8,
   "metadata": {},
   "outputs": [
    {
     "name": "stdout",
     "output_type": "stream",
     "text": [
      "The anagram for appel in the dictionary is: apple\n"
     ]
    }
   ],
   "source": [
    "solution = Anagram()\n",
    "anagram = solution.solve(random_word, dictionary)\n",
    "print('The anagram for', random_word, 'in the dictionary is:', anagram)"
   ]
  },
  {
   "cell_type": "code",
   "execution_count": null,
   "metadata": {},
   "outputs": [],
   "source": []
  }
 ],
 "metadata": {
  "kernelspec": {
   "display_name": "Python 3",
   "language": "python",
   "name": "python3"
  },
  "language_info": {
   "codemirror_mode": {
    "name": "ipython",
    "version": 3
   },
   "file_extension": ".py",
   "mimetype": "text/x-python",
   "name": "python",
   "nbconvert_exporter": "python",
   "pygments_lexer": "ipython3",
   "version": "3.7.4"
  }
 },
 "nbformat": 4,
 "nbformat_minor": 4
}
