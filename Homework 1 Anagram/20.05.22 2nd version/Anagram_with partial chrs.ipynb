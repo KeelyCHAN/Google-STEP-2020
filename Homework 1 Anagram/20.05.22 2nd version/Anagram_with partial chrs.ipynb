{
 "cells": [
  {
   "cell_type": "code",
   "execution_count": 1,
   "metadata": {},
   "outputs": [],
   "source": [
    "## This program is to generate ALL anagrams for a given word/string ##\n",
    "## For example: all anagrams for Appleee\n",
    "\n",
    "## Input: string that contains random letters (upper case or lower case)\n",
    "# input that contains NOT ONLY alphabet will be regarded as invalid\n",
    "## Output: ALL matched anagrams in the given dictionary\n",
    "\n",
    "# Regardless of upper / lower case. For example, apple is an angram for Applee"
   ]
  },
  {
   "cell_type": "code",
   "execution_count": 2,
   "metadata": {},
   "outputs": [],
   "source": [
    "## Method 1: Recap\n",
    "# Step 1: sort(each word in dictionary)\n",
    "# Step 2: Binary search the sort(sub-strings of random_word) in a sort(dictionary)\n",
    "\n",
    "# n: length of input string; m: length of dictionary\n",
    "# Time complexity: O(2^n * log(m)) \n",
    "# Space complexity: O(2^n + 2m)"
   ]
  },
  {
   "cell_type": "code",
   "execution_count": 3,
   "metadata": {},
   "outputs": [],
   "source": [
    "class anagram_1:\n",
    "    \n",
    "    def __init__(self):\n",
    "        pass\n",
    "    \n",
    "    \n",
    "    ## implement the functions of itertools.combinations(string,k) ##\n",
    "    def my_combinations(self, string, k):\n",
    "        \n",
    "        string = sorted(string)\n",
    "        if k < 1:\n",
    "            return None\n",
    "        elif k == 1:\n",
    "            return [[ch] for ch in string]\n",
    "        else:\n",
    "            \n",
    "            ans = []\n",
    "            stack = []\n",
    "            n = len(string)\n",
    "        \n",
    "            for i in range(0, n-k+1):\n",
    "                for j in self.my_combinations(string[i+1:], k-1):\n",
    "                    j.insert(0, string[i])\n",
    "                    ans.append(j)\n",
    "        return ans\n",
    "        pass\n",
    "    \n",
    "    \n",
    "    ## generate a set of ALL sub-strings for a given string ##\n",
    "    def sub_strings_generator(self, word):\n",
    "        \n",
    "        substrs_set = []\n",
    "        \n",
    "        for i in range(len(word)):\n",
    "            # use itertools.combinations() before: for c in combinations(word, i+1):\n",
    "            # update with self-built my_combinations\n",
    "            for c in self.my_combinations(word, i+1):\n",
    "                sub_string = ''.join(c)\n",
    "                substrs_set.append(sub_string)\n",
    "        \n",
    "        substrs_set = list(set(substrs_set))\n",
    "        print('There are', len(substrs_set), 'sub-strings.')\n",
    "        return substrs_set\n",
    "        pass\n",
    "        \n",
    "    \n",
    "    ## define pre-processing of a given dictionary ##\n",
    "    def dictionary_processor(self, dictionary):\n",
    "        \n",
    "        sorted_dictionary = []\n",
    "        \n",
    "        # process each word in dict: upper(word) and sort(word)\n",
    "        for word in dictionary:\n",
    "            new_word = word.lower()\n",
    "            sorted_word = ''.join(sorted(new_word))\n",
    "            sorted_dictionary.append([sorted_word,word])\n",
    "            \n",
    "        # sort(whole dictionary)\n",
    "        sorted_dictionary = sorted(sorted_dictionary)\n",
    "        return sorted_dictionary\n",
    "        pass      \n",
    "    \n",
    "    \n",
    "    ## return INDEX of a anagram in the dictionary, if the anagram matches the given word ##\n",
    "    ## using binary search ##\n",
    "    def binary_search_dictionary(self, word, dictionary):\n",
    "        \n",
    "        left = 0\n",
    "        right = len(dictionary) - 1  \n",
    "    \n",
    "        while left <= right:\n",
    "            middle = (left + right) // 2  \n",
    "            key = dictionary[middle][0]\n",
    "        \n",
    "            if key > word:\n",
    "                right = middle - 1\n",
    "            elif key < word:\n",
    "                left = middle + 1\n",
    "            else:\n",
    "                return middle\n",
    "        return None\n",
    "        pass\n",
    "    \n",
    "    \n",
    "    ## judge whether an input string is valid ##\n",
    "    # valid case: contains ONLY alphabet\n",
    "    def alphabet_judger(self, word):\n",
    "        return word.isalpha()\n",
    "        pass\n",
    "    \n",
    "    \n",
    "    ## solution ##\n",
    "    def solve(self, random_word, dictionary):\n",
    "        \n",
    "        if not self.alphabet_judger(random_word):\n",
    "            print('Oops~! The input string is NOT VALID!')\n",
    "            return None\n",
    "    \n",
    "        # pre-process given letters\n",
    "        random_word = random_word.lower()\n",
    "        candidate_strs = self.sub_strings_generator(random_word)\n",
    "        # pre-process dictionary\n",
    "        sorted_dictionary = self.dictionary_processor(dictionary)\n",
    "\n",
    "        anagrams = []\n",
    "\n",
    "        for candidate in candidate_strs:\n",
    "            anagram_index = self.binary_search_dictionary(candidate, sorted_dictionary)\n",
    "      \n",
    "            if anagram_index:\n",
    "                new_anagram = sorted_dictionary[anagram_index][1]\n",
    "                anagrams.append(new_anagram)      \n",
    "        \n",
    "        return anagrams\n",
    "        pass"
   ]
  },
  {
   "cell_type": "code",
   "execution_count": 4,
   "metadata": {},
   "outputs": [],
   "source": [
    "## Method 2: Decode string\n",
    "# Step 1: counter_w = decode_str( random_word ). Ex. apple -> aelpp -> {'a':1, 'e':1, 'l':1, 'p':2}\n",
    "# Step 2: counter_d = decode_str( each word in dictionary )\n",
    "# Step 3: if union_set( counter_w, each counter_d ) == set( counter_w ) then append( word ) to anagrams\n",
    "\n",
    "# solve_1(): solution 1 using built-in collections.Counter() method\n",
    "# solve_2(): solution 2 using self-buit string_counter() method\n",
    "\n",
    "# n: length of input string; m: length of dictionary\n",
    "# Time complexity: O(m) \n",
    "# Space complexity: constant space"
   ]
  },
  {
   "cell_type": "code",
   "execution_count": 5,
   "metadata": {},
   "outputs": [],
   "source": [
    "class anagram_2:\n",
    "    \n",
    "    def __init__(self):\n",
    "        pass    \n",
    "    \n",
    "    \n",
    "    ## judge whether an input string is valid ##\n",
    "    # valid case: contains ONLY alphabet\n",
    "    def alphabet_judger(self, word):\n",
    "        return word.isalpha()\n",
    "        pass\n",
    "    \n",
    "    \n",
    "    ## solution using decode method (by built-in Counter method) ##\n",
    "    def solve_1(self, random_word, dictionary):\n",
    "        \n",
    "        if not self.alphabet_judger(random_word):\n",
    "            print('Oops~! The input string is NOT VALID!')\n",
    "            return None\n",
    "    \n",
    "        # pre-process given letters\n",
    "        random_word = random_word.lower()\n",
    "        random_word_counter = Counter(random_word)\n",
    "        \n",
    "        anagrams = []\n",
    "        \n",
    "        for word in dictionary:\n",
    "            new_word = word.lower()\n",
    "            word_counter = Counter(new_word)\n",
    "            \n",
    "            if random_word_counter | word_counter == random_word_counter and word_counter:\n",
    "                anagrams.append(word)\n",
    "                \n",
    "        return anagrams\n",
    "        pass\n",
    "    \n",
    "    \n",
    "    ## self-built Counter(method) ##\n",
    "    # Input: string that contains ONLY lower-case alphabet\n",
    "    # Output: dictionary\n",
    "    def string_counter(self, random_word):\n",
    "        \n",
    "        s = sorted(random_word)\n",
    "        counter = {}\n",
    "        \n",
    "        for ch in s:\n",
    "            if ch not in counter:\n",
    "                counter[ch] = 1\n",
    "            else:\n",
    "                counter[ch] += 1\n",
    "        return counter\n",
    "        pass\n",
    "    \n",
    "    \n",
    "    ## judge a word in dict is an anagram of input random_word or not\n",
    "    # Input: type-dict. ex. {'a':1, 'p':2}. \n",
    "    # [counter1 for input random_word, counter2 for word in dictionary]\n",
    "    # Output: boolean value\n",
    "    def isAnagram(self, counter1, counter2):\n",
    "        \n",
    "        if counter1.keys() | counter2.keys() == counter1.keys():\n",
    "            for key in counter2.keys():\n",
    "                if counter2[key] > counter1[key]:\n",
    "                    return False\n",
    "            return True\n",
    "        \n",
    "        return False\n",
    "        pass\n",
    "        \n",
    "            \n",
    "    ## solution using decode method (by self-built Counter method) ##\n",
    "    def solve_2(self, random_word, dictionary):\n",
    "        \n",
    "        if not self.alphabet_judger(random_word):\n",
    "            print('Oops~! The input string is NOT VALID!')\n",
    "            return None\n",
    "    \n",
    "        # pre-process given letters\n",
    "        random_word = random_word.lower()\n",
    "        random_word_counter = self.string_counter(random_word)\n",
    "        \n",
    "        anagrams = []\n",
    "        \n",
    "        for word in dictionary:\n",
    "            new_word = word.lower()\n",
    "            word_counter = self.string_counter(new_word)\n",
    "            \n",
    "            if word_counter and self.isAnagram(random_word_counter, word_counter):\n",
    "                anagrams.append(word)\n",
    "                \n",
    "        return anagrams\n",
    "        pass"
   ]
  },
  {
   "cell_type": "code",
   "execution_count": 6,
   "metadata": {},
   "outputs": [],
   "source": [
    "if __name__ == '__main__':\n",
    "    \n",
    "    from itertools import combinations\n",
    "    from collections import Counter\n",
    "    \n",
    "    path = '/Users/keely/lectures/STEP2020/Homework 1 Anagram/'\n",
    "    dictionary_file = open(path + 'dictionary.txt','r')\n",
    "    dictionary = dictionary_file.read().split('\\n')\n",
    "    \n",
    "    ## sorted dictionary: type: List, len: 72413 ##\n",
    "    #print(dictionary)\n",
    "    #print(len(dictionary))\n",
    "    dictionary_file.close"
   ]
  },
  {
   "cell_type": "code",
   "execution_count": 7,
   "metadata": {},
   "outputs": [
    {
     "name": "stdout",
     "output_type": "stream",
     "text": [
      "You can input a random string ~\n"
     ]
    },
    {
     "name": "stdin",
     "output_type": "stream",
     "text": [
      " apple\n"
     ]
    }
   ],
   "source": [
    "print('You can input a random string ~')\n",
    "random_word = input()"
   ]
  },
  {
   "cell_type": "code",
   "execution_count": 8,
   "metadata": {},
   "outputs": [
    {
     "name": "stdout",
     "output_type": "stream",
     "text": [
      "There are 23 sub-strings.\n"
     ]
    }
   ],
   "source": [
    "solution_1 = anagram_1()\n",
    "anagrams_1 = solution_1.solve(random_word, dictionary)"
   ]
  },
  {
   "cell_type": "code",
   "execution_count": 9,
   "metadata": {},
   "outputs": [
    {
     "name": "stdout",
     "output_type": "stream",
     "text": [
      "##### Using recap method #####\n",
      "===== Random word =====\n",
      " apple\n",
      "===== All mathced anagrams =====\n",
      " ['Apple', 'Lapp', 'Lea', 'pal', 'pale', 'pap', 'pea', 'pep']\n",
      "There are 8 anagrams.\n"
     ]
    }
   ],
   "source": [
    "print('##### Using recap method #####')\n",
    "print('===== Random word =====\\n', random_word)\n",
    "print('===== All mathced anagrams =====\\n', sorted(anagrams_1))\n",
    "\n",
    "if anagrams_1: \n",
    "    print('There are', len(anagrams_1), 'anagrams.')\n",
    "    "
   ]
  },
  {
   "cell_type": "raw",
   "metadata": {},
   "source": [
    "There is a bug in the RECAP algorithm.\n",
    "For example, ['ael','Lea'] and ['ael','ale'] and ['ael','lea'] share the same sorted string 'ael'. While we binarily search the token 'ael' in the sorted dictionary, only one vocabulary will be returned.\n",
    "In this case, vocabulary 'Lea' will be returned, vocabularies 'ale' and 'lea' will not be returned.\n",
    "I failed to debug it without changing the time complexity."
   ]
  },
  {
   "cell_type": "code",
   "execution_count": 10,
   "metadata": {},
   "outputs": [],
   "source": [
    "solution_2 = anagram_2()\n",
    "anagrams_2 = solution_2.solve_1(random_word, dictionary)"
   ]
  },
  {
   "cell_type": "code",
   "execution_count": 11,
   "metadata": {},
   "outputs": [
    {
     "name": "stdout",
     "output_type": "stream",
     "text": [
      "##### Using decode method (with built-in counter method) #####\n",
      "\n",
      "===== Random word =====\n",
      " apple\n",
      "===== All mathced anagrams =====\n",
      " ['Apple', 'Lapp', 'Lea', 'ale', 'ape', 'apple', 'lap', 'lea', 'leap', 'pal', 'pale', 'pap', 'pea', 'peal', 'pep', 'plea']\n",
      "There are 16 anagrams.\n"
     ]
    }
   ],
   "source": [
    "print('##### Using decode method (with built-in counter method) #####\\n')\n",
    "print('===== Random word =====\\n', random_word)\n",
    "print('===== All mathced anagrams =====\\n', sorted(anagrams_2))\n",
    "\n",
    "if anagrams_2: \n",
    "    print('There are', len(anagrams_2), 'anagrams.')"
   ]
  },
  {
   "cell_type": "code",
   "execution_count": 12,
   "metadata": {},
   "outputs": [],
   "source": [
    "anagrams_3 = solution_2.solve_2(random_word, dictionary)"
   ]
  },
  {
   "cell_type": "code",
   "execution_count": 13,
   "metadata": {},
   "outputs": [
    {
     "name": "stdout",
     "output_type": "stream",
     "text": [
      "##### Using decode method (with self-built counter method) #####\n",
      "\n",
      "===== Random word =====\n",
      " apple\n",
      "===== All mathced anagrams =====\n",
      " ['Apple', 'Lapp', 'Lea', 'ale', 'ape', 'apple', 'lap', 'lea', 'leap', 'pal', 'pale', 'pap', 'pea', 'peal', 'pep', 'plea']\n",
      "There are 16 anagrams.\n"
     ]
    }
   ],
   "source": [
    "print('##### Using decode method (with self-built counter method) #####\\n')\n",
    "print('===== Random word =====\\n', random_word)\n",
    "print('===== All mathced anagrams =====\\n', sorted(anagrams_3))\n",
    "\n",
    "if anagrams_3: \n",
    "    print('There are', len(anagrams_3), 'anagrams.')"
   ]
  },
  {
   "cell_type": "markdown",
   "metadata": {},
   "source": []
  }
 ],
 "metadata": {
  "kernelspec": {
   "display_name": "Python 3",
   "language": "python",
   "name": "python3"
  },
  "language_info": {
   "codemirror_mode": {
    "name": "ipython",
    "version": 3
   },
   "file_extension": ".py",
   "mimetype": "text/x-python",
   "name": "python",
   "nbconvert_exporter": "python",
   "pygments_lexer": "ipython3",
   "version": "3.7.4"
  }
 },
 "nbformat": 4,
 "nbformat_minor": 4
}
